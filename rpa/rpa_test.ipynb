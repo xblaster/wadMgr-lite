{
 "cells": [
  {
   "cell_type": "code",
   "execution_count": 2,
   "metadata": {
    "collapsed": true
   },
   "outputs": [],
   "source": [
    "# !pip install rpa"
   ]
  },
  {
   "cell_type": "code",
   "execution_count": 1,
   "outputs": [],
   "source": [
    "import rpa as r"
   ],
   "metadata": {
    "collapsed": false,
    "pycharm": {
     "name": "#%%\n"
    }
   }
  },
  {
   "cell_type": "code",
   "execution_count": 2,
   "outputs": [
    {
     "data": {
      "text/plain": "True"
     },
     "execution_count": 2,
     "metadata": {},
     "output_type": "execute_result"
    }
   ],
   "source": [
    "r.init(chrome_browser = True, visual_automation = True)"
   ],
   "metadata": {
    "collapsed": false,
    "pycharm": {
     "name": "#%%\n"
    }
   }
  },
  {
   "cell_type": "code",
   "execution_count": 16,
   "outputs": [],
   "source": [],
   "metadata": {
    "collapsed": false,
    "pycharm": {
     "name": "#%%\n"
    }
   }
  },
  {
   "cell_type": "code",
   "execution_count": null,
   "outputs": [],
   "source": [
    "def is_on_home_page():\n",
    "    return \"Bonjour\" in r.text()\n",
    "\n",
    "def return_on_home():\n",
    "    r.click(\"logo bnp.png\")\n",
    "\n",
    "\n",
    "\n",
    "def connect():\n",
    "\n",
    "    r.url('https://mabanque.bnpparibas/fr/connexion')\n",
    "\n",
    "    r.wait()\n",
    "    if is_on_home_page():\n",
    "        return True\n",
    "\n",
    "    if not \"Mon code secret (6 chiffres)\" in r.text():\n",
    "        return False\n",
    "\n",
    "    r.type(\"userGridPasswordCredential.username\", \"3355920452\")\n",
    "\n",
    "    # r.snap(\"secret-nbr-keyboard\",\"keyboard.png\")\n",
    "\n",
    "    r.hover(\"secret-nbr-keyboard\")\n",
    "    r.click(\"3.png\")\n",
    "    r.click(\"5.png\")\n",
    "    r.click(\"3.png\")\n",
    "    r.click(\"7.png\")\n",
    "    r.click(\"3.png\")\n",
    "    r.click(\"5.png\")\n",
    "    r.click(\"btn-primary\")\n",
    "\n",
    "    r.wait()\n",
    "\n",
    "    return_on_home()\n",
    "    r.wait()\n",
    "    return is_on_home_page()"
   ],
   "metadata": {
    "collapsed": false,
    "pycharm": {
     "name": "#%%\n"
    }
   }
  },
  {
   "cell_type": "code",
   "execution_count": 17,
   "outputs": [
    {
     "data": {
      "text/plain": "True"
     },
     "execution_count": 17,
     "metadata": {},
     "output_type": "execute_result"
    }
   ],
   "source": [
    "connect()\n"
   ],
   "metadata": {
    "collapsed": false,
    "pycharm": {
     "name": "#%%\n"
    }
   }
  },
  {
   "cell_type": "code",
   "execution_count": 4,
   "outputs": [
    {
     "data": {
      "text/plain": "True"
     },
     "execution_count": 4,
     "metadata": {},
     "output_type": "execute_result"
    }
   ],
   "source": [
    "\n",
    "\n",
    "return_on_home()\n",
    "\n"
   ],
   "metadata": {
    "collapsed": false,
    "pycharm": {
     "name": "#%%\n"
    }
   }
  },
  {
   "cell_type": "code",
   "execution_count": 28,
   "outputs": [],
   "source": [
    "def go_to_download_page():\n",
    "    return_on_home()\n",
    "    # clicker sur liquidité\n",
    "    r.click(\"//ul[@class='list-vue1 udc-liquidite']//li[1]//div[1]//div[3]//span[1]//i[1]\")\n",
    "    # clicker sur télécharger\n",
    "    r.click(\"//i[@class='icon-telecharger-releve']\")\n",
    "    r.click(\"Tous vos comptes\")\n",
    "    r.click(\"Toutes vos opérations\")\n",
    "    r.click(\"Suivant\")"
   ],
   "metadata": {
    "collapsed": false,
    "pycharm": {
     "name": "#%%\n"
    }
   }
  },
  {
   "cell_type": "code",
   "execution_count": 73,
   "outputs": [],
   "source": [
    "def getListOf():\n",
    "    #r.count(\"/html[1]/body[1]/div[1]/div[1]/div[1]/div[4]/div[1]/div[1]/div[1]/div[3]/div[1]/div[1]/div[1]/section[1]/div[1]/table[1]/tbody[1]/tr[1]/td[1]\")\n",
    "    # body > div:nth-child(1) > div:nth-child(1) > div:nth-child(1) > div:nth-child(4) > div:nth-child(1) > div:nth-child(1) > div:nth-child(1) > div:nth-child(3) > div:nth-child(5) > div:nth-child(1) > div:nth-child(1) > section:nth-child(3) > div:nth-child(2) > table:nth-child(1) > tbody:nth-child(2) > tr:nth-child(1) > td:nth-child(2)\n",
    "    return r.count('//*[@class=\"resp-table\"]//*[2][tr]//*[td]')"
   ],
   "metadata": {
    "collapsed": false,
    "pycharm": {
     "name": "#%%\n"
    }
   }
  },
  {
   "cell_type": "code",
   "execution_count": 79,
   "outputs": [],
   "source": [
    "if connect():\n",
    "    return_on_home()\n",
    "    go_to_download_page()"
   ],
   "metadata": {
    "collapsed": false,
    "pycharm": {
     "name": "#%%\n"
    }
   }
  },
  {
   "cell_type": "code",
   "execution_count": 85,
   "outputs": [
    {
     "name": "stdout",
     "output_type": "stream",
     "text": [
      "6\n",
      "1\n",
      "//*[@class=\"resp-table\"]//*[2][tr]//*[1][td]\n",
      "Compte de chèquesN° ****2590\n",
      "-----\n",
      "2\n",
      "//*[@class=\"resp-table\"]//*[2][tr]//*[2][td]\n",
      "Compte de chèquesN° ****6890\n",
      "-----\n",
      "3\n",
      "//*[@class=\"resp-table\"]//*[2][tr]//*[3][td]\n",
      "Compte EpargneN° ****9227\n",
      "-----\n",
      "4\n",
      "//*[@class=\"resp-table\"]//*[2][tr]//*[4][td]\n",
      "Livret Dév. Durable et SolidaireN° ****8182\n",
      "-----\n",
      "5\n",
      "//*[@class=\"resp-table\"]//*[2][tr]//*[5][td]\n",
      "PELN° ****7342\n",
      "-----\n",
      "6\n",
      "//*[@class=\"resp-table\"]//*[2][tr]//*[6][td]\n",
      "Crédit immobilierN° ****4406\n",
      "-----\n"
     ]
    }
   ],
   "source": [
    "\n",
    "total = getListOf()\n",
    "print(total)\n",
    "for item in range(1, total + 1):\n",
    "    print (item)\n",
    "    print('//*[@class=\"resp-table\"]//*[2][tr]//*['+str(item)+'][td]')\n",
    "    print(r.read('//*[@class=\"resp-table\"]//*[2][tr]//*['+str(item)+'][td]//*'))\n",
    "    print('-----')"
   ],
   "metadata": {
    "collapsed": false,
    "pycharm": {
     "name": "#%%\n"
    }
   }
  },
  {
   "cell_type": "code",
   "execution_count": null,
   "outputs": [],
   "source": [
    "r.close()"
   ],
   "metadata": {
    "collapsed": false,
    "pycharm": {
     "name": "#%%\n"
    }
   }
  }
 ],
 "metadata": {
  "kernelspec": {
   "display_name": "Python 3",
   "language": "python",
   "name": "python3"
  },
  "language_info": {
   "codemirror_mode": {
    "name": "ipython",
    "version": 2
   },
   "file_extension": ".py",
   "mimetype": "text/x-python",
   "name": "python",
   "nbconvert_exporter": "python",
   "pygments_lexer": "ipython2",
   "version": "2.7.6"
  }
 },
 "nbformat": 4,
 "nbformat_minor": 0
}